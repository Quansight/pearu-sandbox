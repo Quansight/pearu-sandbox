{
 "cells": [
  {
   "cell_type": "markdown",
   "metadata": {},
   "source": [
    "# Introduction\n",
    "\n",
    "LOBPCG is a method for finding the smallest (or largest) eigenvalues\n",
    "and the corresponding eigenvectors of a symmetric positive defined\n",
    "generalized eigenvalue problem\n",
    "([A Knyazev, 2001](https://epubs.siam.org/doi/abs/10.1137/S1064827500366124)).\n",
    "Several implementations of the method exists. In this notebook we compare the\n",
    "implementations of SciPy (see [scipy.sparse.linalg.lobpcg](https://docs.scipy.org/doc/scipy/reference/generated/scipy.sparse.linalg.lobpcg.html))\n",
    "and PyTorch (see [PR 29488](https://github.com/pytorch/pytorch/pull/29488)).\n",
    "\n",
    "## User-interfaces\n",
    "\n",
    "SciPy and PyTorch user-interfaces are similar:\n",
    "```\n",
    "import scipy.sparse.linalg\n",
    "scipy.sparse.linalg.lobpcg(A, X, B=None, M=None, Y=None, tol=None, maxiter=None, largest=True, verbosityLevel=0, retLambdaHistory=False, retResidualNormsHistory=False) -> E, V [, lambdas, rnorms]\n",
    "\n",
    "import torch\n",
    "torch.lobpcg(A, B=None, k=1, X=None, n=None, iK=None, niter=1000, tol=None, largest=True, tracker=None, method=None, **params) -> E, V\n",
    "```\n",
    "but with the following notable differences:\n",
    "1. The initial estimate `X` is mandatory for scipy lobpcg but optional for torch lobpcg. In the later case, the initial estimate will be random (using normal distribution N(0, 1)) tensor of size `(A.shape[::-1], n)`.\n",
    "2. The preconditioner argument: scipy uses `M` (as approximation to inverse of `A`), torch uses `iK` (as inverse of a general preconditioner matrix `K`).\n",
    "3. The number of requested eigenpairs: scipy deducts this from the shape of `X` while torch uses the argument `k`.\n",
    "4. The block size: in scipy it is the same as the number of requested eigenpairs while torch uses the argument `n` which can be specified larger than `k` to ensure better convergence properties.\n",
    "5. The number of iterations argument: in scipy, the number is specified by `maxiter` (as the maximum number of iterations, default is 20) while in torch by `niter` (as the number of iterations, default is 1000, can be negative with the meaning of iterate until convergence criteria is satisfied).\n",
    "6. Convergence criteria, the argument `tol`: scipy uses `||A V - diag(E) B V|| < tol` where `tol=A.shape[-1] sqrt(feps)`, torch uses `||A V-diag(E) B V|| < tol * ||X|| (||A|| + ||E|| ||B||)` where `tol=sqrt(feps)` and estimates `||A|| = ||A X||/||X||`, `||B||=||B X||/||X||` are used. `feps` is minimal positive floating point number.\n",
    "7. Tracking the convergence: scipy allows tracking only the eigenvalues and residuals (see `retLambdaHistory` and `retResidualNormsHistory` arguments) while torch allows tracking all variables involved in the iteration process (see `tracker` callable argument).\n",
    "8. Supported methods: scipy implements LOBPCG with soft-locking of converged eigen-pairts, torch implements the original method (`method=\"basic\"`) and the soft-locking method with orthogonalization procedure (`method=\"ortho\"`, the default, most robust).\n",
    "9. torch does not implement constraints support (the `Y` argument).\n",
    "\n",
    "## A test with default arguments"
   ]
  },
  {
   "cell_type": "code",
   "execution_count": 3,
   "metadata": {},
   "outputs": [],
   "source": [
    "m = 5000  # size of the square matrix\n",
    "k = 7     # the number of requested eigenpairs\n",
    "A1 = random_sparse_pd_matrix(m, density=2.0/m)\n",
    "B1 = random_sparse_pd_matrix(m, density=2.0/m)\n",
    "X1 = torch.randn((m, k), dtype=torch.double)\n",
    "A2 = toscipy(A1)\n",
    "B2 = toscipy(B1)\n",
    "X2 = toscipy(X1)"
   ]
  },
  {
   "cell_type": "code",
   "execution_count": 4,
   "metadata": {},
   "outputs": [
    {
     "name": "stdout",
     "output_type": "stream",
     "text": [
      "E1=[1.     0.9998 0.9996 0.9994 0.9992 0.999  0.9988]\n",
      "E2=[0.99838111 0.99759313 0.99699264 0.99672419 0.99625764 0.99550297\n",
      " 0.99429996]\n",
      "E2t=[1.     0.9998 0.9996 0.9994 0.9992 0.999  0.9988]\n"
     ]
    }
   ],
   "source": [
    "E1, V1 = torch.lobpcg(A1, X=X1, k=k)\n",
    "print(f\"E1={E1.numpy()}\")\n",
    "E2, V2 = scipy_lobpcg(A2, X2)\n",
    "print(f\"E2={E2}\")\n",
    "E2t, V2t = torch.lobpcg(A2, X=X2, k=k)\n",
    "print(f\"E2t={E2t}\")"
   ]
  },
  {
   "cell_type": "markdown",
   "metadata": {},
   "source": [
    "The less accurate result of `scipy_lobpcg` is caused by the too small default value `20` to `maxiter` argument. So, in the following we always specify the same number of iterations for both lobpcg implementations.\n",
    "\n",
    "## Tracking of convergence\n",
    "\n",
    "As the exact eigenvalues are known and the two lobpcg implementations use different convergence criteria, we only present the convergence of eigenvalues:"
   ]
  },
  {
   "cell_type": "code",
   "execution_count": 6,
   "metadata": {},
   "outputs": [
    {
     "data": {
      "image/png": "[encoded data removed]",
      "text/plain": [
       "<Figure size 432x288 with 1 Axes>"
      ]
     },
     "metadata": {
      "needs_background": "light"
     },
     "output_type": "display_data"
    }
   ],
   "source": [
    "eigenvals = np.arange(1, m)/m\n",
    "\n",
    "# torch.lobpcg, default method=\"ortho\"\n",
    "eigenvals1 = []\n",
    "def tracker(E, **params):\n",
    "    eigenvals1.append(E.tolist())\n",
    "E1, V1 = torch.lobpcg(A1, X=X1, niter=niter, tracker=tracker)\n",
    "eigenvals1 = np.array(eigenvals1)\n",
    "\n",
    "# torch.lobpcg, method=\"basic\"\n",
    "eigenvals1b = []\n",
    "def tracker(E, **params):\n",
    "    eigenvals1b.append(E.tolist())\n",
    "E1b, V1b = torch.lobpcg(A1, X=X1, niter=niter, tracker=tracker, method=\"basic\")\n",
    "eigenvals1b = np.array(eigenvals1b)\n",
    "\n",
    "# scipy.sparse.linalg.lobpcg\n",
    "E2, V2, eigenvals2 = scipy_lobpcg(A2, X2, maxiter=niter, retLambdaHistory=True)\n",
    "eigenvals2 = np.array(eigenvals2)\n",
    "\n",
    "plt.plot(eigenvals1[:,0], label='torch, method: ortho')\n",
    "plt.plot(eigenvals1b[:,0], label='torch, method: basic')\n",
    "plt.plot(eigenvals2[:,0], label='scipy')\n",
    "plt.legend(); plt.xlabel('iterations'); plt.ylabel('the smallest eigenvalue == 0.001');"
   ]
  },
  {
   "cell_type": "markdown",
   "metadata": {},
   "source": [
    "As seen, the convergence of scipy and torch lobpcg iteration processes are practically identical, except for the `method=\"basic\"` when the convergence is slightly slower.\n",
    "\n",
    "## Timings"
   ]
  },
  {
   "cell_type": "code",
   "execution_count": 8,
   "metadata": {},
   "outputs": [
    {
     "name": "stdout",
     "output_type": "stream",
     "text": [
      "320 ms ± 23.1 ms per loop (mean ± std. dev. of 7 runs, 1 loop each)\n",
      "190 ms ± 15.9 ms per loop (mean ± std. dev. of 7 runs, 10 loops each)\n",
      "264 ms ± 24 ms per loop (mean ± std. dev. of 7 runs, 1 loop each)\n",
      "228 ms ± 54.7 ms per loop (mean ± std. dev. of 7 runs, 1 loop each)\n",
      "139 ms ± 1.67 ms per loop (mean ± std. dev. of 7 runs, 1 loop each)\n"
     ]
    }
   ],
   "source": [
    "%timeit torch.lobpcg(A1, X=X1, B=None, niter=niter, method=\"ortho\")\n",
    "%timeit torch.lobpcg(A1, X=X1, B=None, niter=niter, method=\"basic\")\n",
    "%timeit torch.lobpcg(A2, X=X2, B=None, niter=niter, method=\"ortho\")\n",
    "%timeit torch.lobpcg(A2, X=X2, B=None, niter=niter, method=\"basic\")\n",
    "%timeit scipy_lobpcg(A2, X2, B=None, maxiter=niter)"
   ]
  },
  {
   "cell_type": "markdown",
   "metadata": {},
   "source": [
    "As seen, scipy is fastest and the torch with the default `method=\"ortho\"` is almost 2x slower for this test case. This is expected as the orthogonalization process has certain overhead.\n",
    "\n",
    "Notice that in the last two calls of `torch.lobpcg`, the input `A2` is a scipy sparse matrix and `X2` is numpy ndarray object, and the implementation uses numpy array backend only. Interestingly, if method is `\"ortho\"` then using `torch.Tensor` is more efficient while if the method is `\"basic\"` then using numpy.ndarray is more efficient. More detailed profiling is required to draw any conclusions from these timing results. \n",
    "\n",
    "## Generalized eigenvalue problem"
   ]
  },
  {
   "cell_type": "code",
   "execution_count": 9,
   "metadata": {},
   "outputs": [
    {
     "name": "stdout",
     "output_type": "stream",
     "text": [
      "E1=[3121.88312793 1788.92252293  465.76691282  189.49262319  149.44120493\n",
      "  134.66668408  101.75980272]\n",
      "E2=[3134.17784132 1789.28976457  470.80143921  189.50317439  149.87017039\n",
      "  134.7586702   102.16336441]\n",
      "E2t=[3121.88312793 1788.92252293  465.76691282  189.49262319  149.44120493\n",
      "  134.66668408  101.75980272]\n"
     ]
    }
   ],
   "source": [
    "E1, V1 = torch.lobpcg(A1, X=X1, B=B1, k=k, niter=niter)\n",
    "print(f\"E1={E1.numpy()}\")\n",
    "E2, V2 = scipy_lobpcg(A2, X2, B=B2, maxiter=niter)\n",
    "print(f\"E2={E2}\")\n",
    "E2t, V2t = torch.lobpcg(A2, X=X2, B=B2, k=k, niter=niter)\n",
    "print(f\"E2t={E2t}\")"
   ]
  },
  {
   "cell_type": "code",
   "execution_count": 10,
   "metadata": {},
   "outputs": [
    {
     "name": "stdout",
     "output_type": "stream",
     "text": [
      "378 ms ± 28.7 ms per loop (mean ± std. dev. of 7 runs, 1 loop each)\n",
      "219 ms ± 15 ms per loop (mean ± std. dev. of 7 runs, 10 loops each)\n",
      "369 ms ± 21.8 ms per loop (mean ± std. dev. of 7 runs, 1 loop each)\n",
      "250 ms ± 5.29 ms per loop (mean ± std. dev. of 7 runs, 1 loop each)\n",
      "176 ms ± 8.26 ms per loop (mean ± std. dev. of 7 runs, 1 loop each)\n"
     ]
    }
   ],
   "source": [
    "%timeit torch.lobpcg(A1, X=X1, B=B1, niter=niter, method=\"ortho\")\n",
    "%timeit torch.lobpcg(A1, X=X1, B=B1, niter=niter, method=\"basic\")\n",
    "%timeit torch.lobpcg(A2, X=X2, B=B2, niter=niter, method=\"ortho\")\n",
    "%timeit torch.lobpcg(A2, X=X2, B=B2, niter=niter, method=\"basic\")\n",
    "%timeit scipy_lobpcg(A2, X2, B=B2, maxiter=niter)"
   ]
  },
  {
   "cell_type": "markdown",
   "metadata": {},
   "source": [
    "# Appendix\n",
    "\n",
    "The auxiliary code used in this notebook. Run this first!"
   ]
  },
  {
   "cell_type": "code",
   "execution_count": 2,
   "metadata": {},
   "outputs": [],
   "source": [
    "import torch\n",
    "import numpy as np\n",
    "import scipy.sparse\n",
    "from scipy.sparse.linalg import lobpcg as scipy_lobpcg\n",
    "import matplotlib.pyplot as plt\n",
    "from torch.lobpcg import numpy_backend\n",
    "niter = 50\n",
    "\n",
    "def toscipy(A):\n",
    "    if A.layout == torch.sparse_coo:\n",
    "        values = A.coalesce().values().numpy().copy()\n",
    "        indices = A.coalesce().indices().numpy().copy()\n",
    "        return scipy.sparse.coo_matrix((values, (indices[0], indices[1])), A.shape)\n",
    "    return A.numpy().copy()\n",
    "\n",
    "def random_sparse_pd_matrix(matrix_size, density=0.01, **kwargs):\n",
    "    \"\"\"Return random sparse positive-definite matrix with given density.\n",
    "\n",
    "    The eigenvalues of the matrix are defined as::\n",
    "      arange(1, matrix_size+1)/matrix_size\n",
    "\n",
    "    Algorithm:\n",
    "      A = diag(arange(1, matrix_size+1)/matrix_size)\n",
    "      while <A density is smaller than required>:\n",
    "          <choose random i, j in range(matrix_size), theta in [0, 2*pi]>\n",
    "          R = <rotation matrix (i,j,theta)>\n",
    "          A = R^T A R\n",
    "    \"\"\"\n",
    "    import math\n",
    "    import random\n",
    "    torch = kwargs.get('torch', globals()['torch'])\n",
    "    dtype = kwargs.get('dtype', torch.double)\n",
    "    device = kwargs.get('device', torch.device('cpu'))\n",
    "    data = dict([((i, i), float(i + 1) / matrix_size)\n",
    "                 for i in range(matrix_size)])\n",
    "\n",
    "    def multiply(data, N, i, j, cs, sn, left=True):\n",
    "        for k in range(N):\n",
    "            if left:\n",
    "                ik, jk = (k, i), (k, j)\n",
    "            else:\n",
    "                ik, jk = (i, k), (j, k)\n",
    "            aik, ajk = data.get(ik, 0), data.get(jk, 0)\n",
    "            aik, ajk = cs * aik + sn * ajk, -sn * aik + cs * ajk\n",
    "            if aik:\n",
    "                data[ik] = aik\n",
    "            else:\n",
    "                data.pop(ik, None)\n",
    "            if ajk:\n",
    "                data[jk] = ajk\n",
    "            else:\n",
    "                data.pop(jk, None)\n",
    "\n",
    "    target_nnz = density * matrix_size * matrix_size\n",
    "    while len(data) < target_nnz:\n",
    "        i = random.randint(0, matrix_size - 1)\n",
    "        j = random.randint(0, matrix_size - 1)\n",
    "        if i != j:\n",
    "            theta = random.uniform(0, 2 * math.pi)\n",
    "            cs = math.cos(theta)\n",
    "            sn = math.sin(theta)\n",
    "            multiply(data, matrix_size, i, j, cs, sn, left=True)\n",
    "            multiply(data, matrix_size, i, j, cs, sn, left=False)\n",
    "    icoords, jcoords, values = [], [], []\n",
    "    for (i, j), v in sorted(data.items()):\n",
    "        icoords.append(i)\n",
    "        jcoords.append(j)\n",
    "        values.append(v)\n",
    "    indices = [icoords, jcoords]\n",
    "    return torch.sparse_coo_tensor(indices, values, (matrix_size, matrix_size), dtype=dtype, device=device)\n",
    "\n"
   ]
  }
 ],
 "metadata": {
  "kernelspec": {
   "display_name": "PyTorch 3",
   "language": "python",
   "name": "pytorch-dev"
  },
  "language_info": {
   "codemirror_mode": {
    "name": "ipython",
    "version": 3
   },
   "file_extension": ".py",
   "mimetype": "text/x-python",
   "name": "python",
   "nbconvert_exporter": "python",
   "pygments_lexer": "ipython3",
   "version": "3.6.7"
  }
 },
 "nbformat": 4,
 "nbformat_minor": 2
}
