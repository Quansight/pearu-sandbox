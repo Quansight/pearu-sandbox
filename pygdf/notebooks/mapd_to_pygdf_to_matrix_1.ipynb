{
 "cells": [
  {
   "cell_type": "markdown",
   "metadata": {},
   "source": [
    "Test MapD->PyGDF->matrix"
   ]
  },
  {
   "cell_type": "code",
   "execution_count": 1,
   "metadata": {
    "collapsed": true
   },
   "outputs": [],
   "source": [
    "PWD = !pwd"
   ]
  },
  {
   "cell_type": "code",
   "execution_count": 2,
   "metadata": {
    "collapsed": true
   },
   "outputs": [],
   "source": [
    "import sys\n",
    "import os.path"
   ]
  },
  {
   "cell_type": "markdown",
   "metadata": {},
   "source": [
    "Add import path to MapD Thrift binding"
   ]
  },
  {
   "cell_type": "code",
   "execution_count": 3,
   "metadata": {
    "collapsed": true
   },
   "outputs": [],
   "source": [
    "mapd_thrift_path = os.path.join(PWD[0], 'gen-py')\n",
    "sys.path.append(mapd_thrift_path)"
   ]
  },
  {
   "cell_type": "markdown",
   "metadata": {},
   "source": [
    "Add import path to Arrow Schema"
   ]
  },
  {
   "cell_type": "code",
   "execution_count": 4,
   "metadata": {
    "collapsed": true
   },
   "outputs": [],
   "source": [
    "arrow_schema_path = os.path.join(PWD[0], 'arrow_schema')\n",
    "sys.path.append(arrow_schema_path)"
   ]
  },
  {
   "cell_type": "code",
   "execution_count": 5,
   "metadata": {
    "collapsed": true
   },
   "outputs": [],
   "source": [
    "from thrift.protocol import TBinaryProtocol\n",
    "from thrift.protocol import TJSONProtocol\n",
    "from thrift.transport import TSocket\n",
    "from thrift.transport import THttpClient\n",
    "from thrift.transport import TTransport"
   ]
  },
  {
   "cell_type": "code",
   "execution_count": 6,
   "metadata": {
    "collapsed": true
   },
   "outputs": [],
   "source": [
    "from mapd import MapD\n",
    "from mapd import ttypes"
   ]
  },
  {
   "cell_type": "markdown",
   "metadata": {},
   "source": [
    "MapD connection"
   ]
  },
  {
   "cell_type": "code",
   "execution_count": 7,
   "metadata": {
    "collapsed": true
   },
   "outputs": [],
   "source": [
    "def get_client(host_or_uri, port, http):\n",
    "  if http:\n",
    "    transport = THttpClient.THttpClient(host_or_uri)\n",
    "    protocol = TJSONProtocol.TJSONProtocol(transport)\n",
    "  else:\n",
    "    socket = TSocket.TSocket(host_or_uri, port)\n",
    "    transport = TTransport.TBufferedTransport(socket)\n",
    "    protocol = TBinaryProtocol.TBinaryProtocol(transport)\n",
    "\n",
    "  client = MapD.Client(protocol)\n",
    "  transport.open()\n",
    "  return client"
   ]
  },
  {
   "cell_type": "code",
   "execution_count": 8,
   "metadata": {},
   "outputs": [
    {
     "name": "stdout",
     "output_type": "stream",
     "text": [
      "Connection complete\n"
     ]
    }
   ],
   "source": [
    "db_name = 'mapd'\n",
    "user_name = 'mapd'\n",
    "passwd = 'HyperInteractive'\n",
    "hostname = 'localhost'\n",
    "portno = 9091\n",
    "\n",
    "client = get_client(hostname, portno, False)\n",
    "session = client.connect(user_name, passwd, db_name)\n",
    "print('Connection complete')"
   ]
  },
  {
   "cell_type": "markdown",
   "metadata": {},
   "source": [
    "The Query"
   ]
  },
  {
   "cell_type": "code",
   "execution_count": 9,
   "metadata": {},
   "outputs": [
    {
     "name": "stdout",
     "output_type": "stream",
     "text": [
      "Query is : select dest_lat, dest_lon from flights_2008_7M limit 23;\n"
     ]
    }
   ],
   "source": [
    "query = 'select dest_lat, dest_lon from flights_2008_7M limit 23;'\n",
    "print('Query is : ' + query)\n",
    "\n",
    "# always use True for is columnar\n",
    "results = client.sql_execute_cudf(session, query, device_id=0, first_n=-1)"
   ]
  },
  {
   "cell_type": "code",
   "execution_count": 10,
   "metadata": {},
   "outputs": [
    {
     "data": {
      "text/plain": [
       "TCuDataFrame(schema=b'\\x10\\x00\\x00\\x00\\x0c\\x00\\x0e\\x00\\x06\\x00\\x05\\x00\\x08\\x00\\x00\\x00\\x0c\\x00\\x00\\x00\\x00\\x01\\x01\\x00\\x10\\x00\\x00\\x00\\x00\\x00\\n\\x00\\x08\\x00\\x00\\x00\\x04\\x00\\x00\\x00\\n\\x00\\x00\\x00\\x04\\x00\\x00\\x00\\x02\\x00\\x00\\x00l\\x00\\x00\\x00\\x04\\x00\\x00\\x00\\xb0\\xff\\xff\\xff\\x00\\x00\\x01\\x038\\x00\\x00\\x00\\x1c\\x00\\x00\\x00\\x14\\x00\\x00\\x00\\x04\\x00\\x00\\x00\\x02\\x00\\x00\\x00\\x1c\\x00\\x00\\x00\\x10\\x00\\x00\\x00\\x00\\x00\\x00\\x00\\x9a\\xff\\xff\\xff\\x00\\x00\\x01\\x00\\x8c\\xff\\xff\\xff \\x00\\x01\\x00\\x94\\xff\\xff\\xff\\x01\\x00\\x02\\x00\\x08\\x00\\x00\\x00dest_lon\\x00\\x00\\x00\\x00\\x14\\x00\\x18\\x00\\x08\\x00\\x06\\x00\\x07\\x00\\x0c\\x00\\x00\\x00\\x10\\x00\\x14\\x00\\x00\\x00\\x14\\x00\\x00\\x00\\x00\\x00\\x01\\x03H\\x00\\x00\\x00$\\x00\\x00\\x00\\x14\\x00\\x00\\x00\\x04\\x00\\x00\\x00\\x02\\x00\\x00\\x00,\\x00\\x00\\x00\\x18\\x00\\x00\\x00\\x00\\x00\\x00\\x00\\x00\\x00\\x06\\x00\\x08\\x00\\x06\\x00\\x06\\x00\\x00\\x00\\x00\\x00\\x01\\x00\\xf8\\xff\\xff\\xff \\x00\\x01\\x00\\x08\\x00\\x08\\x00\\x04\\x00\\x06\\x00\\x08\\x00\\x00\\x00\\x01\\x00\\x02\\x00\\x08\\x00\\x00\\x00dest_lat\\x00\\x00\\x00\\x00', df_handle=b'\\xb0\\xa8\\x84\\x04\\x00\\x00\\x00\\x00\\xb6m\\x00\\x00\\x00\\x00\\x00\\x00\\xe0\\x02\\x00\\x00\\x00\\x00\\x00\\x00\\x00\\x00 \\x00\\x00\\x00\\x00\\x00\\x00\\x08\\x00\\x00\\x00\\x00\\x00\\x00\\x00\\x04\\x00\\x00\\x00\\x00\\x00\\x00@\\x00\\x00\\x00\\x00\\x00\\x00\\x00\\xb0\\x00\\xd0\\xc1\\xaa\\x00\\x00\\\\', df_size=736)"
      ]
     },
     "execution_count": 10,
     "metadata": {},
     "output_type": "execute_result"
    }
   ],
   "source": [
    "results"
   ]
  },
  {
   "cell_type": "markdown",
   "metadata": {},
   "source": [
    "Use Numba to access the IPC memory handle\n",
    "\n",
    "Note: this requires numba 0.32.0 + PR #2023\n",
    "\n",
    "```bash\n",
    "git clone https://github.com/numba/numba\n",
    "cd numba\n",
    "git fetch origin pull/2023/merge:pr/2023\n",
    "git checkout pr/2023\n",
    "```"
   ]
  },
  {
   "cell_type": "code",
   "execution_count": 11,
   "metadata": {
    "collapsed": true
   },
   "outputs": [],
   "source": [
    "from numba import cuda\n",
    "from numba.cuda.cudadrv import drvapi"
   ]
  },
  {
   "cell_type": "code",
   "execution_count": 12,
   "metadata": {
    "collapsed": true
   },
   "outputs": [],
   "source": [
    "ipc_handle = drvapi.cu_ipc_mem_handle(*results.df_handle)"
   ]
  },
  {
   "cell_type": "code",
   "execution_count": 13,
   "metadata": {
    "collapsed": true
   },
   "outputs": [],
   "source": [
    "ipch = cuda.driver.IpcHandle(None, ipc_handle, size=results.df_size)"
   ]
  },
  {
   "cell_type": "code",
   "execution_count": 14,
   "metadata": {
    "collapsed": true
   },
   "outputs": [],
   "source": [
    "ctx = cuda.current_context()"
   ]
  },
  {
   "cell_type": "code",
   "execution_count": 15,
   "metadata": {
    "collapsed": true
   },
   "outputs": [],
   "source": [
    "dptr = ipch.open(ctx)"
   ]
  },
  {
   "cell_type": "code",
   "execution_count": 16,
   "metadata": {},
   "outputs": [
    {
     "data": {
      "text/plain": [
       "<numba.cuda.cudadrv.driver.OwnedPointer at 0x7eff4a3cba58>"
      ]
     },
     "execution_count": 16,
     "metadata": {},
     "output_type": "execute_result"
    }
   ],
   "source": [
    "dptr"
   ]
  },
  {
   "cell_type": "markdown",
   "metadata": {},
   "source": [
    "`dptr` is GPU memory containing the query result"
   ]
  },
  {
   "cell_type": "markdown",
   "metadata": {},
   "source": [
    "Convert `dptr` into a GPU device ndarray (numpy array like object on GPU)"
   ]
  },
  {
   "cell_type": "code",
   "execution_count": 17,
   "metadata": {
    "collapsed": true
   },
   "outputs": [],
   "source": [
    "import numpy as np"
   ]
  },
  {
   "cell_type": "code",
   "execution_count": 18,
   "metadata": {
    "collapsed": true
   },
   "outputs": [],
   "source": [
    "dtype = np.dtype(np.byte)\n",
    "darr = cuda.devicearray.DeviceNDArray(shape=dptr.size, strides=dtype.itemsize, dtype=dtype, gpu_data=dptr)"
   ]
  },
  {
   "cell_type": "markdown",
   "metadata": {},
   "source": [
    "Use PyGDF to read the arrow metadata from the query"
   ]
  },
  {
   "cell_type": "code",
   "execution_count": 19,
   "metadata": {
    "collapsed": true
   },
   "outputs": [],
   "source": [
    "from pygdf.gpuarrow import GpuArrowReader"
   ]
  },
  {
   "cell_type": "code",
   "execution_count": 20,
   "metadata": {
    "collapsed": true
   },
   "outputs": [],
   "source": [
    "reader = GpuArrowReader(darr)"
   ]
  },
  {
   "cell_type": "code",
   "execution_count": 21,
   "metadata": {},
   "outputs": [
    {
     "data": {
      "text/plain": [
       "OrderedDict([('dest_lat',\n",
       "              <numba.cuda.cudadrv.devicearray.DeviceNDArray at 0x7eff42b9a710>),\n",
       "             ('dest_lon',\n",
       "              <numba.cuda.cudadrv.devicearray.DeviceNDArray at 0x7eff42b90d68>)])"
      ]
     },
     "execution_count": 21,
     "metadata": {},
     "output_type": "execute_result"
    }
   ],
   "source": [
    "reader.to_dict()"
   ]
  },
  {
   "cell_type": "markdown",
   "metadata": {},
   "source": [
    "Wrap result in a Python CUDA DataFrame"
   ]
  },
  {
   "cell_type": "code",
   "execution_count": 22,
   "metadata": {
    "collapsed": true
   },
   "outputs": [],
   "source": [
    "from pygdf.dataframe import DataFrame"
   ]
  },
  {
   "cell_type": "code",
   "execution_count": 23,
   "metadata": {
    "collapsed": true
   },
   "outputs": [],
   "source": [
    "df = DataFrame()\n",
    "for k, v in reader.to_dict().items():\n",
    "    df[k] = v"
   ]
  },
  {
   "cell_type": "code",
   "execution_count": 24,
   "metadata": {},
   "outputs": [
    {
     "data": {
      "text/plain": [
       "(('dest_lat', 'dest_lon'), 23)"
      ]
     },
     "execution_count": 24,
     "metadata": {},
     "output_type": "execute_result"
    }
   ],
   "source": [
    "df.columns, len(df)"
   ]
  },
  {
   "cell_type": "markdown",
   "metadata": {},
   "source": [
    "Turn the dataframe into a matrix"
   ]
  },
  {
   "cell_type": "code",
   "execution_count": 25,
   "metadata": {
    "collapsed": true
   },
   "outputs": [],
   "source": [
    "gpu_matrix = df.as_gpu_matrix()"
   ]
  },
  {
   "cell_type": "markdown",
   "metadata": {},
   "source": [
    "The ctypes pointer to the gpu matrix"
   ]
  },
  {
   "cell_type": "code",
   "execution_count": 26,
   "metadata": {
    "collapsed": true
   },
   "outputs": [],
   "source": [
    "ctypes_ptr = gpu_matrix.device_ctypes_pointer"
   ]
  },
  {
   "cell_type": "code",
   "execution_count": 27,
   "metadata": {},
   "outputs": [
    {
     "name": "stdout",
     "output_type": "stream",
     "text": [
      "address value as integer 0x1020a800000\n"
     ]
    }
   ],
   "source": [
    "print('address value as integer', hex(ctypes_ptr.value))"
   ]
  },
  {
   "cell_type": "markdown",
   "metadata": {},
   "source": [
    "Get numpy array for the matrix"
   ]
  },
  {
   "cell_type": "code",
   "execution_count": 28,
   "metadata": {},
   "outputs": [
    {
     "data": {
      "text/plain": [
       "array([[  33.43416595, -112.00805664],\n",
       "       [  40.49146652,  -80.23287201],\n",
       "       [  41.72399902,  -71.42822266],\n",
       "       [  36.08036041, -115.15233612],\n",
       "       [  41.72399902,  -71.42822266],\n",
       "       [  37.72129059, -122.22071838],\n",
       "       [  38.17438889,  -85.73600006],\n",
       "       [  37.72129059, -122.22071838],\n",
       "       [  38.17438889,  -85.73600006],\n",
       "       [  45.58872223, -122.59750366],\n",
       "       [  38.74768829,  -90.35999298],\n",
       "       [  47.44898224, -122.30931091],\n",
       "       [  38.74768829,  -90.35999298],\n",
       "       [  47.44898224, -122.30931091],\n",
       "       [  32.84711456,  -96.85176849],\n",
       "       [  47.44898224, -122.30931091],\n",
       "       [  29.64541817,  -95.27889252],\n",
       "       [  40.7883873 , -111.97777557],\n",
       "       [  29.64541817,  -95.27889252],\n",
       "       [  30.19453239,  -97.66986847],\n",
       "       [  29.64541817,  -95.27889252],\n",
       "       [  30.19453239,  -97.66986847],\n",
       "       [  33.43416595, -112.00805664]], dtype=float32)"
      ]
     },
     "execution_count": 28,
     "metadata": {},
     "output_type": "execute_result"
    }
   ],
   "source": [
    "gpu_matrix.copy_to_host()"
   ]
  },
  {
   "cell_type": "markdown",
   "metadata": {},
   "source": [
    "Cleanup the IPC handle"
   ]
  },
  {
   "cell_type": "code",
   "execution_count": 29,
   "metadata": {
    "collapsed": true
   },
   "outputs": [],
   "source": [
    "ipch.close()"
   ]
  }
 ],
 "metadata": {
  "kernelspec": {
   "display_name": "Python 3",
   "language": "python",
   "name": "python3"
  },
  "language_info": {
   "codemirror_mode": {
    "name": "ipython",
    "version": 3
   },
   "file_extension": ".py",
   "mimetype": "text/x-python",
   "name": "python",
   "nbconvert_exporter": "python",
   "pygments_lexer": "ipython3",
   "version": "3.5.3"
  }
 },
 "nbformat": 4,
 "nbformat_minor": 2
}
